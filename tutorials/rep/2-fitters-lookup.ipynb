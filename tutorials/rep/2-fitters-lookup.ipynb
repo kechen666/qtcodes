{
 "cells": [
  {
   "cell_type": "code",
   "execution_count": 1,
   "id": "cloudy-duncan",
   "metadata": {},
   "outputs": [],
   "source": [
    "%load_ext autoreload\n",
    "%autoreload 2"
   ]
  },
  {
   "cell_type": "code",
   "execution_count": 1,
   "id": "funky-certification",
   "metadata": {},
   "outputs": [],
   "source": [
    "from qtcodes import RotatedDecoder\n",
    "from qtcodes import RepetitionQubit"
   ]
  },
  {
   "cell_type": "code",
   "execution_count": 2,
   "id": "favorite-exercise",
   "metadata": {},
   "outputs": [],
   "source": [
    "from qiskit_aer.noise import NoiseModel\n",
    "from qiskit_aer.noise.errors import pauli_error, depolarizing_error\n",
    "from qiskit_aer import Aer\n",
    "\n",
    "def get_noise_model(p_err):\n",
    "\n",
    "    error_gate1 = pauli_error([(\"X\", p_err / 2), (\"Z\", p_err / 2), (\"I\", 1 - p_err)])\n",
    "\n",
    "    noise_model = NoiseModel()\n",
    "    noise_model.add_all_qubit_quantum_error(error_gate1, \"id\")\n",
    "    return noise_model"
   ]
  },
  {
   "cell_type": "code",
   "execution_count": 3,
   "id": "metropolitan-screw",
   "metadata": {},
   "outputs": [],
   "source": [
    "p_err = 0.10\n",
    "shots = 10000\n",
    "\n",
    "\n",
    "def get_results(circ):\n",
    "    results = Aer.get_backend(\"aer_simulator\").run(circ, \n",
    "                      noise_model=get_noise_model(p_err),\n",
    "                      optimization_level=0,\n",
    "                      shots=shots,\n",
    "                     ).result().get_counts()\n",
    "    return results"
   ]
  },
  {
   "cell_type": "code",
   "execution_count": 4,
   "id": "unusual-stevens",
   "metadata": {},
   "outputs": [],
   "source": [
    "d = 3\n",
    "T = 1\n",
    "\n",
    "decoder = RotatedDecoder({\"d\":d,\"T\":T})"
   ]
  },
  {
   "cell_type": "code",
   "execution_count": 5,
   "id": "authentic-competition",
   "metadata": {},
   "outputs": [],
   "source": [
    "qubit = RepetitionQubit({'d':d})\n",
    "qubit.reset_z()\n",
    "qubit.stabilize()\n",
    "qubit.id_data()\n",
    "qubit.stabilize()\n",
    "qubit.readout_z()\n",
    "decoder.set_look_up_table(\"Z\",0,get_results(qubit.circ))\n",
    "\n",
    "qubit = RepetitionQubit({'d':d})\n",
    "qubit.reset_z()\n",
    "qubit.x()\n",
    "qubit.stabilize()\n",
    "qubit.id_data()\n",
    "qubit.stabilize()\n",
    "qubit.readout_z()\n",
    "decoder.set_look_up_table(\"Z\",1,get_results(qubit.circ))"
   ]
  },
  {
   "cell_type": "code",
   "execution_count": 6,
   "id": "designing-delta",
   "metadata": {},
   "outputs": [
    {
     "data": {
      "text/plain": [
       "{'X': {0: {}, 1: {}},\n",
       " 'Z': {0: {'0 10 00': 466,\n",
       "   '0 00 00': 8546,\n",
       "   '1 01 00': 472,\n",
       "   '0 11 00': 446,\n",
       "   '0 01 00': 23,\n",
       "   '1 10 00': 29,\n",
       "   '1 11 00': 18},\n",
       "  1: {'1 10 00': 422,\n",
       "   '1 00 00': 8612,\n",
       "   '0 11 00': 22,\n",
       "   '0 01 00': 445,\n",
       "   '1 11 00': 456,\n",
       "   '1 01 00': 18,\n",
       "   '0 00 00': 2,\n",
       "   '0 10 00': 23}}}"
      ]
     },
     "execution_count": 6,
     "metadata": {},
     "output_type": "execute_result"
    }
   ],
   "source": [
    "decoder.look_up_table"
   ]
  },
  {
   "cell_type": "code",
   "execution_count": 7,
   "id": "industrial-incidence",
   "metadata": {},
   "outputs": [
    {
     "name": "stdout",
     "output_type": "stream",
     "text": [
      "[0.9632653061224489, 0.03673469387755102]\n"
     ]
    },
    {
     "data": {
      "text/plain": [
       "0"
      ]
     },
     "execution_count": 7,
     "metadata": {},
     "output_type": "execute_result"
    }
   ],
   "source": [
    "readout_string = \"1 01 00\"\n",
    "readout_type = \"Z\"\n",
    "print(decoder._run_look_up(readout_string, readout_type))\n",
    "decoder.correct_readout_look_up_table(readout_string, readout_type)"
   ]
  }
 ],
 "metadata": {
  "kernelspec": {
   "display_name": "Python 3 (ipykernel)",
   "language": "python",
   "name": "python3"
  },
  "language_info": {
   "codemirror_mode": {
    "name": "ipython",
    "version": 3
   },
   "file_extension": ".py",
   "mimetype": "text/x-python",
   "name": "python",
   "nbconvert_exporter": "python",
   "pygments_lexer": "ipython3",
   "version": "3.9.18"
  }
 },
 "nbformat": 4,
 "nbformat_minor": 5
}
